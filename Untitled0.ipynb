{
  "cells": [
    {
      "cell_type": "markdown",
      "metadata": {
        "id": "view-in-github",
        "colab_type": "text"
      },
      "source": [
        "<a href=\"https://colab.research.google.com/github/harshi-xyz/Datahack/blob/main/Untitled0.ipynb\" target=\"_parent\"><img src=\"https://colab.research.google.com/assets/colab-badge.svg\" alt=\"Open In Colab\"/></a>"
      ]
    },
    {
      "cell_type": "markdown",
      "metadata": {
        "id": "UGClgOTrIF3B"
      },
      "source": [
        "Load and Prepare the Data"
      ]
    },
    {
      "cell_type": "code",
      "execution_count": 2,
      "metadata": {
        "id": "J2rV7jOVIH2K"
      },
      "outputs": [],
      "source": [
        "import pandas as pd\n",
        "\n",
        "train_features = pd.read_csv('training_set_features.csv')\n",
        "train_labels = pd.read_csv('training_set_labels.csv')\n",
        "test_features = pd.read_csv('test_set_features.csv')\n",
        "submission_format = pd.read_csv('submission_format.csv')\n",
        "\n",
        "train_data = pd.merge(train_features, train_labels, on='respondent_id')\n",
        "\n",
        "train_data = train_data.drop(columns=['respondent_id'])\n",
        "\n",
        "test_ids = test_features['respondent_id']\n",
        "test_features = test_features.drop(columns=['respondent_id'])\n",
        "\n",
        "X = train_data.drop(columns=['xyz_vaccine', 'seasonal_vaccine'])\n",
        "y = train_data[['xyz_vaccine', 'seasonal_vaccine']]\n"
      ]
    },
    {
      "cell_type": "markdown",
      "metadata": {
        "id": "SR6I9bsgIMSI"
      },
      "source": [
        "Preprocessing"
      ]
    },
    {
      "cell_type": "code",
      "execution_count": 3,
      "metadata": {
        "id": "eeTFt67eIPOG"
      },
      "outputs": [],
      "source": [
        "from sklearn.model_selection import train_test_split\n",
        "from sklearn.preprocessing import StandardScaler, OneHotEncoder\n",
        "from sklearn.compose import ColumnTransformer\n",
        "from sklearn.pipeline import Pipeline\n",
        "from sklearn.impute import SimpleImputer\n",
        "\n",
        "numeric_features = X.select_dtypes(include=['int64', 'float64']).columns\n",
        "categorical_features = X.select_dtypes(include=['object']).columns\n",
        "\n",
        "numeric_transformer = Pipeline(steps=[\n",
        "    ('imputer', SimpleImputer(strategy='median')),\n",
        "    ('scaler', StandardScaler())])\n",
        "\n",
        "categorical_transformer = Pipeline(steps=[\n",
        "    ('imputer', SimpleImputer(strategy='most_frequent')),\n",
        "    ('onehot', OneHotEncoder(handle_unknown='ignore'))])\n",
        "\n",
        "preprocessor = ColumnTransformer(\n",
        "    transformers=[\n",
        "        ('num', numeric_transformer, numeric_features),\n",
        "        ('cat', categorical_transformer, categorical_features)])\n",
        "\n",
        "X_train, X_test, y_train, y_test = train_test_split(X, y, test_size=0.2, random_state=42)\n",
        "\n",
        "X_train = preprocessor.fit_transform(X_train)\n",
        "X_test = preprocessor.transform(X_test)\n",
        "X_test_features = preprocessor.transform(test_features)\n"
      ]
    },
    {
      "cell_type": "markdown",
      "metadata": {
        "id": "cguo21-CISM2"
      },
      "source": [
        "Model Building and Training"
      ]
    },
    {
      "cell_type": "code",
      "execution_count": 4,
      "metadata": {
        "id": "zGWfGVBnIV7n",
        "colab": {
          "base_uri": "https://localhost:8080/"
        },
        "outputId": "549652f9-e39f-438d-a1cc-078f48630852"
      },
      "outputs": [
        {
          "output_type": "stream",
          "name": "stdout",
          "text": [
            "ROC AUC Score for Logistic Regression: 0.843578822347677\n",
            "ROC AUC Score for Random Forest: 0.8370674860400737\n"
          ]
        }
      ],
      "source": [
        "from sklearn.linear_model import LogisticRegression\n",
        "from sklearn.ensemble import RandomForestClassifier\n",
        "from sklearn.multioutput import MultiOutputClassifier\n",
        "from sklearn.metrics import roc_auc_score\n",
        "\n",
        "logreg = LogisticRegression()\n",
        "rf = RandomForestClassifier()\n",
        "\n",
        "multi_target_logreg = MultiOutputClassifier(logreg, n_jobs=-1)\n",
        "multi_target_rf = MultiOutputClassifier(rf, n_jobs=-1)\n",
        "\n",
        "multi_target_logreg.fit(X_train, y_train)\n",
        "multi_target_rf.fit(X_train, y_train)\n",
        "\n",
        "y_pred_logreg = multi_target_logreg.predict_proba(X_test)\n",
        "y_pred_rf = multi_target_rf.predict_proba(X_test)\n",
        "\n",
        "y_pred_logreg = pd.DataFrame({\n",
        "    'xyz_vaccine': y_pred_logreg[0][:, 1],\n",
        "    'seasonal_vaccine': y_pred_logreg[1][:, 1]\n",
        "})\n",
        "\n",
        "y_pred_rf = pd.DataFrame({\n",
        "    'xyz_vaccine': y_pred_rf[0][:, 1],\n",
        "    'seasonal_vaccine': y_pred_rf[1][:, 1]\n",
        "})\n",
        "\n",
        "roc_auc_logreg = roc_auc_score(y_test, y_pred_logreg, average='macro')\n",
        "roc_auc_rf = roc_auc_score(y_test, y_pred_rf, average='macro')\n",
        "\n",
        "print(f'ROC AUC Score for Logistic Regression: {roc_auc_logreg}')\n",
        "print(f'ROC AUC Score for Random Forest: {roc_auc_rf}')\n"
      ]
    },
    {
      "cell_type": "markdown",
      "metadata": {
        "id": "K7nlbA6cIYp_"
      },
      "source": [
        "Make Predictions on the Test Set"
      ]
    },
    {
      "cell_type": "code",
      "execution_count": 5,
      "metadata": {
        "id": "hOyNIeC-IbW-"
      },
      "outputs": [],
      "source": [
        "\n",
        "best_model = multi_target_rf if roc_auc_rf > roc_auc_logreg else multi_target_logreg\n",
        "\n",
        "y_pred_final = best_model.predict_proba(X_test_features)\n",
        "\n",
        "submission = pd.DataFrame({\n",
        "    'respondent_id': test_ids,\n",
        "    'xyz_vaccine': y_pred_final[0][:, 1],\n",
        "    'seasonal_vaccine': y_pred_final[1][:, 1]\n",
        "})\n",
        "\n",
        "submission.to_csv('submission.csv', index=False)\n"
      ]
    }
  ],
  "metadata": {
    "accelerator": "GPU",
    "colab": {
      "gpuType": "T4",
      "provenance": [],
      "include_colab_link": true
    },
    "kernelspec": {
      "display_name": "Python 3",
      "name": "python3"
    },
    "language_info": {
      "codemirror_mode": {
        "name": "ipython",
        "version": 3
      },
      "file_extension": ".py",
      "mimetype": "text/x-python",
      "name": "python",
      "nbconvert_exporter": "python",
      "pygments_lexer": "ipython3",
      "version": "3.11.1"
    }
  },
  "nbformat": 4,
  "nbformat_minor": 0
}